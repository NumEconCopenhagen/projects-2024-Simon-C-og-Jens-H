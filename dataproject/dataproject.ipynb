{
 "cells": [
  {
   "cell_type": "markdown",
   "metadata": {},
   "source": [
    "# Sports Attendance and Memberships in Denmark"
   ]
  },
  {
   "cell_type": "markdown",
   "metadata": {},
   "source": [
    "**Table of contents**<a id='toc0_'></a>  \n",
    "- [1. Objectives](#toc1_)\n",
    "- [2. Import of packages](#toc2_)\n",
    "- [3. Reading and cleaning data](#toc3_)\n",
    "- [4. Merging datasets](#toc4_)\n",
    "- [5. Analysis](#toc5_)\n",
    "- [6. Concluding remarks](#toc6_)"
   ]
  },
  {
   "cell_type": "markdown",
   "metadata": {},
   "source": [
    "## 1. <a id='toc1_'></a>[Objectives](#toc1_)"
   ]
  },
  {
   "cell_type": "markdown",
   "metadata": {},
   "source": [
    "This project explores the sporting habits of adults in Denmark, spanning from 2014 to 2022, and aims to identify trends in sports participation and attendance at sporting events.\n",
    "\n",
    "Anticipated findings include a positive correlation between membership in sports organizations and attendance at corresponding sporting events. "
   ]
  },
  {
   "cell_type": "markdown",
   "metadata": {},
   "source": [
    "## 2. <a id='toc2_'></a>[Import of packages](#toc2_)"
   ]
  },
  {
   "cell_type": "code",
   "execution_count": 1,
   "metadata": {},
   "outputs": [],
   "source": [
    "%load_ext autoreload\n",
    "%autoreload 2"
   ]
  },
  {
   "cell_type": "markdown",
   "metadata": {},
   "source": [
    "We will fetch data from DST (Statistikbanken). Being able to do so you need to have the following packages downloaded. Simply remove the `#` if it is not downloaded on your computer."
   ]
  },
  {
   "cell_type": "code",
   "execution_count": 2,
   "metadata": {},
   "outputs": [],
   "source": [
    "#%pip install git+https://github.com/alemartinello/dstapi\n",
    "#%pip install pandas-datareader"
   ]
  },
  {
   "cell_type": "markdown",
   "metadata": {},
   "source": [
    "Below we download the relevant packages that we will need when cleaning, interacting and plotting our data."
   ]
  },
  {
   "cell_type": "code",
   "execution_count": 5,
   "metadata": {},
   "outputs": [],
   "source": [
    "import pandas as pd\n",
    "import numpy as np\n",
    "import matplotlib.pyplot as plt\n",
    "plt.rcParams.update({\"axes.grid\":True,\"grid.color\":\"black\",\"grid.alpha\":\"0.25\",\"grid.linestyle\":\"--\"})\n",
    "plt.rcParams.update({'font.size': 14})\n",
    "\n",
    "import ipywidgets as widgets\n",
    "import os \n",
    "from dstapi import DstApi\n",
    "import seaborn as sns"
   ]
  },
  {
   "cell_type": "markdown",
   "metadata": {},
   "source": [
    "## 3. <a id='toc3_'></a>[Reading and cleaning data](#toc3_)"
   ]
  },
  {
   "cell_type": "markdown",
   "metadata": {},
   "source": [
    "We will import the data using two different techniques:\n",
    "1. Downloading and storing data in our repository\n",
    "2. Fetching directly from DST"
   ]
  },
  {
   "cell_type": "markdown",
   "metadata": {},
   "source": [
    "Importing the first dataset we exploit technique 1. The data contains information on the number of adult members registered in four of the most popular sport organizations in Denmark. This includes football, handball, basketball and ice hockey. "
   ]
  },
  {
   "cell_type": "markdown",
   "metadata": {},
   "source": [
    "### **Downloading data**"
   ]
  },
  {
   "cell_type": "markdown",
   "metadata": {},
   "source": [
    "First of all, we make sure that the data is stored correctly. The data source is https://www.statistikbanken.dk/statbank5a/selectvarval/define.asp?PLanguage=0&subword=tabsel&MainTable=IDRAKT01&PXSId=209181&tablestyle=&ST=SD&buttons=0"
   ]
  },
  {
   "cell_type": "code",
   "execution_count": 6,
   "metadata": {},
   "outputs": [
    {
     "name": "stdout",
     "output_type": "stream",
     "text": [
      "Our repository contain the datasets: \n"
     ]
    },
    {
     "data": {
      "text/plain": [
       "['sport.csv']"
      ]
     },
     "execution_count": 6,
     "metadata": {},
     "output_type": "execute_result"
    }
   ],
   "source": [
    "assert os.path.isdir('data/')\n",
    "assert os.path.isfile('data/sport.csv')\n",
    "\n",
    "print('Our repository contain the datasets: ')\n",
    "os.listdir('data/')"
   ]
  },
  {
   "cell_type": "markdown",
   "metadata": {},
   "source": [
    "The table below describes the data concerning memberships of four sports in Denmark spanning over nine years - from 2014 to 2022.\n",
    "\n",
    "We focus on adult memberships - i.e., people in the age group 25-59 years."
   ]
  },
  {
   "cell_type": "code",
   "execution_count": 7,
   "metadata": {},
   "outputs": [
    {
     "data": {
      "text/html": [
       "<div>\n",
       "<style scoped>\n",
       "    .dataframe tbody tr th:only-of-type {\n",
       "        vertical-align: middle;\n",
       "    }\n",
       "\n",
       "    .dataframe tbody tr th {\n",
       "        vertical-align: top;\n",
       "    }\n",
       "\n",
       "    .dataframe thead th {\n",
       "        text-align: right;\n",
       "    }\n",
       "</style>\n",
       "<table border=\"1\" class=\"dataframe\">\n",
       "  <thead>\n",
       "    <tr style=\"text-align: right;\">\n",
       "      <th></th>\n",
       "      <th>sport_2014</th>\n",
       "      <th>sport_2015</th>\n",
       "      <th>sport_2016</th>\n",
       "      <th>sport_2017</th>\n",
       "      <th>sport_2018</th>\n",
       "      <th>sport_2019</th>\n",
       "      <th>sport_2020</th>\n",
       "      <th>sport_2021</th>\n",
       "      <th>sport_2022</th>\n",
       "    </tr>\n",
       "  </thead>\n",
       "  <tbody>\n",
       "    <tr>\n",
       "      <th>count</th>\n",
       "      <td>4.00</td>\n",
       "      <td>4.00</td>\n",
       "      <td>4.00</td>\n",
       "      <td>4.00</td>\n",
       "      <td>4.00</td>\n",
       "      <td>4.00</td>\n",
       "      <td>4.00</td>\n",
       "      <td>4.00</td>\n",
       "      <td>4.00</td>\n",
       "    </tr>\n",
       "    <tr>\n",
       "      <th>mean</th>\n",
       "      <td>31167.50</td>\n",
       "      <td>31317.50</td>\n",
       "      <td>30825.00</td>\n",
       "      <td>30900.00</td>\n",
       "      <td>32642.50</td>\n",
       "      <td>32717.50</td>\n",
       "      <td>31565.00</td>\n",
       "      <td>32555.00</td>\n",
       "      <td>32832.50</td>\n",
       "    </tr>\n",
       "    <tr>\n",
       "      <th>std</th>\n",
       "      <td>45104.58</td>\n",
       "      <td>45487.62</td>\n",
       "      <td>44381.43</td>\n",
       "      <td>44414.22</td>\n",
       "      <td>47030.48</td>\n",
       "      <td>46971.77</td>\n",
       "      <td>44473.39</td>\n",
       "      <td>47272.28</td>\n",
       "      <td>46734.23</td>\n",
       "    </tr>\n",
       "    <tr>\n",
       "      <th>min</th>\n",
       "      <td>1430.00</td>\n",
       "      <td>1500.00</td>\n",
       "      <td>1550.00</td>\n",
       "      <td>1760.00</td>\n",
       "      <td>1860.00</td>\n",
       "      <td>2170.00</td>\n",
       "      <td>2440.00</td>\n",
       "      <td>2500.00</td>\n",
       "      <td>2380.00</td>\n",
       "    </tr>\n",
       "    <tr>\n",
       "      <th>25%</th>\n",
       "      <td>2735.00</td>\n",
       "      <td>2715.00</td>\n",
       "      <td>3035.00</td>\n",
       "      <td>3020.00</td>\n",
       "      <td>3472.50</td>\n",
       "      <td>3662.50</td>\n",
       "      <td>3850.00</td>\n",
       "      <td>3797.50</td>\n",
       "      <td>4037.50</td>\n",
       "    </tr>\n",
       "    <tr>\n",
       "      <th>50%</th>\n",
       "      <td>13000.00</td>\n",
       "      <td>12880.00</td>\n",
       "      <td>12925.00</td>\n",
       "      <td>12905.00</td>\n",
       "      <td>13485.00</td>\n",
       "      <td>13455.00</td>\n",
       "      <td>13480.00</td>\n",
       "      <td>12695.00</td>\n",
       "      <td>13685.00</td>\n",
       "    </tr>\n",
       "    <tr>\n",
       "      <th>75%</th>\n",
       "      <td>41432.50</td>\n",
       "      <td>41482.50</td>\n",
       "      <td>40715.00</td>\n",
       "      <td>40785.00</td>\n",
       "      <td>42655.00</td>\n",
       "      <td>42510.00</td>\n",
       "      <td>41195.00</td>\n",
       "      <td>41452.50</td>\n",
       "      <td>42480.00</td>\n",
       "    </tr>\n",
       "    <tr>\n",
       "      <th>max</th>\n",
       "      <td>97240.00</td>\n",
       "      <td>98010.00</td>\n",
       "      <td>95900.00</td>\n",
       "      <td>96030.00</td>\n",
       "      <td>101740.00</td>\n",
       "      <td>101790.00</td>\n",
       "      <td>96860.00</td>\n",
       "      <td>102330.00</td>\n",
       "      <td>101580.00</td>\n",
       "    </tr>\n",
       "  </tbody>\n",
       "</table>\n",
       "</div>"
      ],
      "text/plain": [
       "       sport_2014  sport_2015  sport_2016  sport_2017  sport_2018  sport_2019  \\\n",
       "count        4.00        4.00        4.00        4.00        4.00        4.00   \n",
       "mean     31167.50    31317.50    30825.00    30900.00    32642.50    32717.50   \n",
       "std      45104.58    45487.62    44381.43    44414.22    47030.48    46971.77   \n",
       "min       1430.00     1500.00     1550.00     1760.00     1860.00     2170.00   \n",
       "25%       2735.00     2715.00     3035.00     3020.00     3472.50     3662.50   \n",
       "50%      13000.00    12880.00    12925.00    12905.00    13485.00    13455.00   \n",
       "75%      41432.50    41482.50    40715.00    40785.00    42655.00    42510.00   \n",
       "max      97240.00    98010.00    95900.00    96030.00   101740.00   101790.00   \n",
       "\n",
       "       sport_2020  sport_2021  sport_2022  \n",
       "count        4.00        4.00        4.00  \n",
       "mean     31565.00    32555.00    32832.50  \n",
       "std      44473.39    47272.28    46734.23  \n",
       "min       2440.00     2500.00     2380.00  \n",
       "25%       3850.00     3797.50     4037.50  \n",
       "50%      13480.00    12695.00    13685.00  \n",
       "75%      41195.00    41452.50    42480.00  \n",
       "max      96860.00   102330.00   101580.00  "
      ]
     },
     "execution_count": 7,
     "metadata": {},
     "output_type": "execute_result"
    }
   ],
   "source": [
    "# A short description of the data\n",
    "from dataproject import sport\n",
    "sport.describe().round(2)"
   ]
  },
  {
   "cell_type": "markdown",
   "metadata": {},
   "source": [
    "We observe that the average number of memberships in the selected sports organizations has increased from 31,167 in 2014 to 32,832 in 2022. Additionally, the size of the sports organization at the 25th percentile has increased by approximately 47%, while the size of the sports organization at the 75th percentile has only increased by approximately 3%."
   ]
  },
  {
   "cell_type": "markdown",
   "metadata": {},
   "source": [
    "We now take a look into the national sport of Denmark, football."
   ]
  },
  {
   "cell_type": "code",
   "execution_count": 8,
   "metadata": {},
   "outputs": [
    {
     "data": {
      "text/html": [
       "<div>\n",
       "<style scoped>\n",
       "    .dataframe tbody tr th:only-of-type {\n",
       "        vertical-align: middle;\n",
       "    }\n",
       "\n",
       "    .dataframe tbody tr th {\n",
       "        vertical-align: top;\n",
       "    }\n",
       "\n",
       "    .dataframe thead th {\n",
       "        text-align: right;\n",
       "    }\n",
       "</style>\n",
       "<table border=\"1\" class=\"dataframe\">\n",
       "  <thead>\n",
       "    <tr style=\"text-align: right;\">\n",
       "      <th></th>\n",
       "      <th></th>\n",
       "      <th>sport_</th>\n",
       "    </tr>\n",
       "    <tr>\n",
       "      <th>year</th>\n",
       "      <th></th>\n",
       "      <th></th>\n",
       "    </tr>\n",
       "  </thead>\n",
       "  <tbody>\n",
       "    <tr>\n",
       "      <th>2014</th>\n",
       "      <td></td>\n",
       "      <td>97240.0</td>\n",
       "    </tr>\n",
       "    <tr>\n",
       "      <th>2015</th>\n",
       "      <td></td>\n",
       "      <td>98010.0</td>\n",
       "    </tr>\n",
       "    <tr>\n",
       "      <th>2016</th>\n",
       "      <td></td>\n",
       "      <td>95900.0</td>\n",
       "    </tr>\n",
       "    <tr>\n",
       "      <th>2017</th>\n",
       "      <td></td>\n",
       "      <td>96030.0</td>\n",
       "    </tr>\n",
       "    <tr>\n",
       "      <th>2018</th>\n",
       "      <td></td>\n",
       "      <td>101740.0</td>\n",
       "    </tr>\n",
       "    <tr>\n",
       "      <th>2019</th>\n",
       "      <td></td>\n",
       "      <td>101790.0</td>\n",
       "    </tr>\n",
       "    <tr>\n",
       "      <th>2020</th>\n",
       "      <td></td>\n",
       "      <td>96860.0</td>\n",
       "    </tr>\n",
       "    <tr>\n",
       "      <th>2021</th>\n",
       "      <td></td>\n",
       "      <td>102330.0</td>\n",
       "    </tr>\n",
       "    <tr>\n",
       "      <th>2022</th>\n",
       "      <td></td>\n",
       "      <td>101580.0</td>\n",
       "    </tr>\n",
       "  </tbody>\n",
       "</table>\n",
       "</div>"
      ],
      "text/plain": [
       "           sport_\n",
       "year             \n",
       "2014      97240.0\n",
       "2015      98010.0\n",
       "2016      95900.0\n",
       "2017      96030.0\n",
       "2018     101740.0\n",
       "2019     101790.0\n",
       "2020      96860.0\n",
       "2021     102330.0\n",
       "2022     101580.0"
      ]
     },
     "execution_count": 8,
     "metadata": {},
     "output_type": "execute_result"
    }
   ],
   "source": [
    "from dataproject import sport_long\n",
    "sport_long.xs('football', level='event')"
   ]
  },
  {
   "cell_type": "markdown",
   "metadata": {},
   "source": [
    "We observe a steady increase in the number of members during the period."
   ]
  },
  {
   "cell_type": "code",
   "execution_count": 9,
   "metadata": {},
   "outputs": [
    {
     "data": {
      "image/png": "[encoded data removed]",
      "text/plain": [
       "<Figure size 640x480 with 1 Axes>"
      ]
     },
     "metadata": {},
     "output_type": "display_data"
    }
   ],
   "source": [
    "# Remember to reset the index\n",
    "sport_long = sport_long.reset_index()\n",
    "\n",
    "# Plotting the trend\n",
    "sport_fodbold = sport_long.loc[sport_long['event'] == 'football', :]\n",
    "ax = sport_fodbold.plot(x='year',y='sport_',legend=False)\n",
    "ax.set_ylabel('Members')\n",
    "ax.set_xlabel('Year')\n",
    "ax.set_title('Members of football organizations in Denmark')\n",
    "plt.show()"
   ]
  },
  {
   "cell_type": "markdown",
   "metadata": {},
   "source": [
    "The graph clearly visualize an upward trend. It is important, though, to acknowledge that the year 2020 stands out significantly in our analysis due to the Covid-19 pandemic. This year, restrictions in Denmark prohibited group exercise, which lead to a decrease in sports memberships. \n",
    "\n",
    "Additionally, professional sporting events were conducted without spectators."
   ]
  },
  {
   "cell_type": "code",
   "execution_count": 10,
   "metadata": {},
   "outputs": [],
   "source": [
    "# Creating a dropdown menu, allowing to see the trend for each sport\n",
    "def plot_e(df, sport):\n",
    "    I = df['event'] == sport\n",
    "    ax=df.loc[I,:].plot(x='year', y='sport_', style='-o', legend=False)\n",
    "    ax.set_ylabel('Members')\n",
    "    ax.set_xlabel('Year')\n",
    "    ax.set_title(f'Members of {sport} organizations in Denmark')"
   ]
  },
  {
   "cell_type": "code",
   "execution_count": 11,
   "metadata": {},
   "outputs": [
    {
     "data": {
      "application/vnd.jupyter.widget-view+json": {
       "model_id": "55b2a75fe28748dfbddfb1e5fc0fedc1",
       "version_major": 2,
       "version_minor": 0
      },
      "text/plain": [
       "interactive(children=(Dropdown(description='event', index=1, options=('basketball', 'football', 'handball', 'i…"
      ]
     },
     "metadata": {},
     "output_type": "display_data"
    }
   ],
   "source": [
    "widgets.interact(plot_e,\n",
    "    df = widgets.fixed(sport_long),\n",
    "    sport = widgets.Dropdown(description='event',\n",
    "                             options=sport_long.event.unique(),\n",
    "                             value='football') \n",
    ");"
   ]
  },
  {
   "cell_type": "markdown",
   "metadata": {},
   "source": [
    "### **Fetching data** "
   ]
  },
  {
   "cell_type": "markdown",
   "metadata": {},
   "source": [
    "We will utilize DstApi. The dataset includes data on attendance for the four most popular sports (ice hockey, football, handball, and basketball) in Denmark during the period 2007-2023. Our focus will be on the national teams and top leagues, as these typically draw the largest crowds."
   ]
  },
  {
   "cell_type": "code",
   "execution_count": 12,
   "metadata": {},
   "outputs": [
    {
     "name": "stdout",
     "output_type": "stream",
     "text": [
      "Table IDRTIL01: Attendances at selected sportsevents by sport, attendances and matches and time\n",
      "Last update: 2023-10-12T08:00:00\n"
     ]
    },
    {
     "data": {
      "text/html": [
       "<div>\n",
       "<style scoped>\n",
       "    .dataframe tbody tr th:only-of-type {\n",
       "        vertical-align: middle;\n",
       "    }\n",
       "\n",
       "    .dataframe tbody tr th {\n",
       "        vertical-align: top;\n",
       "    }\n",
       "\n",
       "    .dataframe thead th {\n",
       "        text-align: right;\n",
       "    }\n",
       "</style>\n",
       "<table border=\"1\" class=\"dataframe\">\n",
       "  <thead>\n",
       "    <tr style=\"text-align: right;\">\n",
       "      <th></th>\n",
       "      <th>variable name</th>\n",
       "      <th># values</th>\n",
       "      <th>First value</th>\n",
       "      <th>First value label</th>\n",
       "      <th>Last value</th>\n",
       "      <th>Last value label</th>\n",
       "      <th>Time variable</th>\n",
       "    </tr>\n",
       "  </thead>\n",
       "  <tbody>\n",
       "    <tr>\n",
       "      <th>0</th>\n",
       "      <td>SPORTS</td>\n",
       "      <td>24</td>\n",
       "      <td>SPO005</td>\n",
       "      <td>Ice hockey - International (In Denmark) - men</td>\n",
       "      <td>SPO115</td>\n",
       "      <td>Handball - 1. Division - women</td>\n",
       "      <td>False</td>\n",
       "    </tr>\n",
       "    <tr>\n",
       "      <th>1</th>\n",
       "      <td>TILSKUER</td>\n",
       "      <td>3</td>\n",
       "      <td>ENH05</td>\n",
       "      <td>Attendances (numbers)</td>\n",
       "      <td>ENH15</td>\n",
       "      <td>Average attendances per match</td>\n",
       "      <td>False</td>\n",
       "    </tr>\n",
       "    <tr>\n",
       "      <th>2</th>\n",
       "      <td>Tid</td>\n",
       "      <td>17</td>\n",
       "      <td>2006/2007</td>\n",
       "      <td>2006/2007</td>\n",
       "      <td>2022/2023</td>\n",
       "      <td>2022/2023</td>\n",
       "      <td>True</td>\n",
       "    </tr>\n",
       "  </tbody>\n",
       "</table>\n",
       "</div>"
      ],
      "text/plain": [
       "  variable name  # values First value  \\\n",
       "0        SPORTS        24      SPO005   \n",
       "1      TILSKUER         3       ENH05   \n",
       "2           Tid        17   2006/2007   \n",
       "\n",
       "                               First value label Last value  \\\n",
       "0  Ice hockey - International (In Denmark) - men     SPO115   \n",
       "1                          Attendances (numbers)      ENH15   \n",
       "2                                      2006/2007  2022/2023   \n",
       "\n",
       "                 Last value label  Time variable  \n",
       "0  Handball - 1. Division - women          False  \n",
       "1   Average attendances per match          False  \n",
       "2                       2022/2023           True  "
      ]
     },
     "metadata": {},
     "output_type": "display_data"
    }
   ],
   "source": [
    "# Fetching the data and displaying\n",
    "ind = DstApi('IDRTIL01')\n",
    "tabsum = ind.tablesummary(language='en')\n",
    "display(tabsum)"
   ]
  },
  {
   "cell_type": "code",
   "execution_count": 13,
   "metadata": {},
   "outputs": [
    {
     "name": "stdout",
     "output_type": "stream",
     "text": [
      "SPORTS:\n"
     ]
    },
    {
     "data": {
      "text/html": [
       "<div>\n",
       "<style scoped>\n",
       "    .dataframe tbody tr th:only-of-type {\n",
       "        vertical-align: middle;\n",
       "    }\n",
       "\n",
       "    .dataframe tbody tr th {\n",
       "        vertical-align: top;\n",
       "    }\n",
       "\n",
       "    .dataframe thead th {\n",
       "        text-align: right;\n",
       "    }\n",
       "</style>\n",
       "<table border=\"1\" class=\"dataframe\">\n",
       "  <thead>\n",
       "    <tr style=\"text-align: right;\">\n",
       "      <th></th>\n",
       "      <th>id</th>\n",
       "      <th>text</th>\n",
       "    </tr>\n",
       "  </thead>\n",
       "  <tbody>\n",
       "    <tr>\n",
       "      <th>0</th>\n",
       "      <td>SPO005</td>\n",
       "      <td>Ice hockey - International (In Denmark) - men</td>\n",
       "    </tr>\n",
       "    <tr>\n",
       "      <th>1</th>\n",
       "      <td>SPO010</td>\n",
       "      <td>Ice hockey - The Ice Hockey League - men</td>\n",
       "    </tr>\n",
       "    <tr>\n",
       "      <th>2</th>\n",
       "      <td>SPO015</td>\n",
       "      <td>Ice hockey - The Ice Hockey League play-offs a...</td>\n",
       "    </tr>\n",
       "    <tr>\n",
       "      <th>3</th>\n",
       "      <td>SPO020</td>\n",
       "      <td>Ice hockey - The Ice Hockey League - Season to...</td>\n",
       "    </tr>\n",
       "    <tr>\n",
       "      <th>4</th>\n",
       "      <td>SPO025</td>\n",
       "      <td>Football - International (In Denmark) - men</td>\n",
       "    </tr>\n",
       "    <tr>\n",
       "      <th>5</th>\n",
       "      <td>SPO030</td>\n",
       "      <td>Football - International (In Denmark) - women</td>\n",
       "    </tr>\n",
       "    <tr>\n",
       "      <th>6</th>\n",
       "      <td>SPO035</td>\n",
       "      <td>Football - Superleague - men</td>\n",
       "    </tr>\n",
       "    <tr>\n",
       "      <th>7</th>\n",
       "      <td>SPO040</td>\n",
       "      <td>Football - 1. Division - men</td>\n",
       "    </tr>\n",
       "    <tr>\n",
       "      <th>8</th>\n",
       "      <td>SPO045</td>\n",
       "      <td>Football - 2. Division - men</td>\n",
       "    </tr>\n",
       "    <tr>\n",
       "      <th>9</th>\n",
       "      <td>SPO120</td>\n",
       "      <td>Football - 3. Division - men</td>\n",
       "    </tr>\n",
       "    <tr>\n",
       "      <th>10</th>\n",
       "      <td>SPO050</td>\n",
       "      <td>Basketball - International (In Denmark) - men</td>\n",
       "    </tr>\n",
       "    <tr>\n",
       "      <th>11</th>\n",
       "      <td>SPO055</td>\n",
       "      <td>Basketball - The Basketball League - men</td>\n",
       "    </tr>\n",
       "    <tr>\n",
       "      <th>12</th>\n",
       "      <td>SPO060</td>\n",
       "      <td>Basketball -The Basketball League play-off og ...</td>\n",
       "    </tr>\n",
       "    <tr>\n",
       "      <th>13</th>\n",
       "      <td>SPO065</td>\n",
       "      <td>Basketball -The Basketball League season total...</td>\n",
       "    </tr>\n",
       "    <tr>\n",
       "      <th>14</th>\n",
       "      <td>SPO070</td>\n",
       "      <td>Handball - International (In Denmark) - men</td>\n",
       "    </tr>\n",
       "    <tr>\n",
       "      <th>15</th>\n",
       "      <td>SPO075</td>\n",
       "      <td>Handball - International (In Denmark) - women</td>\n",
       "    </tr>\n",
       "    <tr>\n",
       "      <th>16</th>\n",
       "      <td>SPO080</td>\n",
       "      <td>Handball - The Handball League - men</td>\n",
       "    </tr>\n",
       "    <tr>\n",
       "      <th>17</th>\n",
       "      <td>SPO085</td>\n",
       "      <td>Handball - The Handball League play off and fi...</td>\n",
       "    </tr>\n",
       "    <tr>\n",
       "      <th>18</th>\n",
       "      <td>SPO090</td>\n",
       "      <td>Handball - The Handball League season total - men</td>\n",
       "    </tr>\n",
       "    <tr>\n",
       "      <th>19</th>\n",
       "      <td>SPO095</td>\n",
       "      <td>Handball - The Handball League - women</td>\n",
       "    </tr>\n",
       "    <tr>\n",
       "      <th>20</th>\n",
       "      <td>SPO100</td>\n",
       "      <td>Handball - The Handball League play off and fi...</td>\n",
       "    </tr>\n",
       "    <tr>\n",
       "      <th>21</th>\n",
       "      <td>SPO105</td>\n",
       "      <td>Handball - The Handball League season total - ...</td>\n",
       "    </tr>\n",
       "    <tr>\n",
       "      <th>22</th>\n",
       "      <td>SPO110</td>\n",
       "      <td>Handball - 1. Division - men</td>\n",
       "    </tr>\n",
       "    <tr>\n",
       "      <th>23</th>\n",
       "      <td>SPO115</td>\n",
       "      <td>Handball - 1. Division - women</td>\n",
       "    </tr>\n",
       "  </tbody>\n",
       "</table>\n",
       "</div>"
      ],
      "text/plain": [
       "        id                                               text\n",
       "0   SPO005      Ice hockey - International (In Denmark) - men\n",
       "1   SPO010           Ice hockey - The Ice Hockey League - men\n",
       "2   SPO015  Ice hockey - The Ice Hockey League play-offs a...\n",
       "3   SPO020  Ice hockey - The Ice Hockey League - Season to...\n",
       "4   SPO025        Football - International (In Denmark) - men\n",
       "5   SPO030      Football - International (In Denmark) - women\n",
       "6   SPO035                       Football - Superleague - men\n",
       "7   SPO040                       Football - 1. Division - men\n",
       "8   SPO045                       Football - 2. Division - men\n",
       "9   SPO120                       Football - 3. Division - men\n",
       "10  SPO050      Basketball - International (In Denmark) - men\n",
       "11  SPO055           Basketball - The Basketball League - men\n",
       "12  SPO060  Basketball -The Basketball League play-off og ...\n",
       "13  SPO065  Basketball -The Basketball League season total...\n",
       "14  SPO070        Handball - International (In Denmark) - men\n",
       "15  SPO075      Handball - International (In Denmark) - women\n",
       "16  SPO080               Handball - The Handball League - men\n",
       "17  SPO085  Handball - The Handball League play off and fi...\n",
       "18  SPO090  Handball - The Handball League season total - men\n",
       "19  SPO095             Handball - The Handball League - women\n",
       "20  SPO100  Handball - The Handball League play off and fi...\n",
       "21  SPO105  Handball - The Handball League season total - ...\n",
       "22  SPO110                       Handball - 1. Division - men\n",
       "23  SPO115                     Handball - 1. Division - women"
      ]
     },
     "metadata": {},
     "output_type": "display_data"
    },
    {
     "name": "stdout",
     "output_type": "stream",
     "text": [
      "TILSKUER:\n"
     ]
    },
    {
     "data": {
      "text/html": [
       "<div>\n",
       "<style scoped>\n",
       "    .dataframe tbody tr th:only-of-type {\n",
       "        vertical-align: middle;\n",
       "    }\n",
       "\n",
       "    .dataframe tbody tr th {\n",
       "        vertical-align: top;\n",
       "    }\n",
       "\n",
       "    .dataframe thead th {\n",
       "        text-align: right;\n",
       "    }\n",
       "</style>\n",
       "<table border=\"1\" class=\"dataframe\">\n",
       "  <thead>\n",
       "    <tr style=\"text-align: right;\">\n",
       "      <th></th>\n",
       "      <th>id</th>\n",
       "      <th>text</th>\n",
       "    </tr>\n",
       "  </thead>\n",
       "  <tbody>\n",
       "    <tr>\n",
       "      <th>0</th>\n",
       "      <td>ENH05</td>\n",
       "      <td>Attendances (numbers)</td>\n",
       "    </tr>\n",
       "    <tr>\n",
       "      <th>1</th>\n",
       "      <td>ENH10</td>\n",
       "      <td>Matches (numbers)</td>\n",
       "    </tr>\n",
       "    <tr>\n",
       "      <th>2</th>\n",
       "      <td>ENH15</td>\n",
       "      <td>Average attendances per match</td>\n",
       "    </tr>\n",
       "  </tbody>\n",
       "</table>\n",
       "</div>"
      ],
      "text/plain": [
       "      id                           text\n",
       "0  ENH05          Attendances (numbers)\n",
       "1  ENH10              Matches (numbers)\n",
       "2  ENH15  Average attendances per match"
      ]
     },
     "metadata": {},
     "output_type": "display_data"
    },
    {
     "name": "stdout",
     "output_type": "stream",
     "text": [
      "Tid:\n"
     ]
    },
    {
     "data": {
      "text/html": [
       "<div>\n",
       "<style scoped>\n",
       "    .dataframe tbody tr th:only-of-type {\n",
       "        vertical-align: middle;\n",
       "    }\n",
       "\n",
       "    .dataframe tbody tr th {\n",
       "        vertical-align: top;\n",
       "    }\n",
       "\n",
       "    .dataframe thead th {\n",
       "        text-align: right;\n",
       "    }\n",
       "</style>\n",
       "<table border=\"1\" class=\"dataframe\">\n",
       "  <thead>\n",
       "    <tr style=\"text-align: right;\">\n",
       "      <th></th>\n",
       "      <th>id</th>\n",
       "      <th>text</th>\n",
       "    </tr>\n",
       "  </thead>\n",
       "  <tbody>\n",
       "    <tr>\n",
       "      <th>0</th>\n",
       "      <td>2006/2007</td>\n",
       "      <td>2006/2007</td>\n",
       "    </tr>\n",
       "    <tr>\n",
       "      <th>1</th>\n",
       "      <td>2007/2008</td>\n",
       "      <td>2007/2008</td>\n",
       "    </tr>\n",
       "    <tr>\n",
       "      <th>2</th>\n",
       "      <td>2008/2009</td>\n",
       "      <td>2008/2009</td>\n",
       "    </tr>\n",
       "    <tr>\n",
       "      <th>3</th>\n",
       "      <td>2009/2010</td>\n",
       "      <td>2009/2010</td>\n",
       "    </tr>\n",
       "    <tr>\n",
       "      <th>4</th>\n",
       "      <td>2010/2011</td>\n",
       "      <td>2010/2011</td>\n",
       "    </tr>\n",
       "    <tr>\n",
       "      <th>5</th>\n",
       "      <td>2011/2012</td>\n",
       "      <td>2011/2012</td>\n",
       "    </tr>\n",
       "    <tr>\n",
       "      <th>6</th>\n",
       "      <td>2012/2013</td>\n",
       "      <td>2012/2013</td>\n",
       "    </tr>\n",
       "    <tr>\n",
       "      <th>7</th>\n",
       "      <td>2013/2014</td>\n",
       "      <td>2013/2014</td>\n",
       "    </tr>\n",
       "    <tr>\n",
       "      <th>8</th>\n",
       "      <td>2014/2015</td>\n",
       "      <td>2014/2015</td>\n",
       "    </tr>\n",
       "    <tr>\n",
       "      <th>9</th>\n",
       "      <td>2015/2016</td>\n",
       "      <td>2015/2016</td>\n",
       "    </tr>\n",
       "    <tr>\n",
       "      <th>10</th>\n",
       "      <td>2016/2017</td>\n",
       "      <td>2016/2017</td>\n",
       "    </tr>\n",
       "    <tr>\n",
       "      <th>11</th>\n",
       "      <td>2017/2018</td>\n",
       "      <td>2017/2018</td>\n",
       "    </tr>\n",
       "    <tr>\n",
       "      <th>12</th>\n",
       "      <td>2018/2019</td>\n",
       "      <td>2018/2019</td>\n",
       "    </tr>\n",
       "    <tr>\n",
       "      <th>13</th>\n",
       "      <td>2019/2020</td>\n",
       "      <td>2019/2020</td>\n",
       "    </tr>\n",
       "    <tr>\n",
       "      <th>14</th>\n",
       "      <td>2020/2021</td>\n",
       "      <td>2020/2021</td>\n",
       "    </tr>\n",
       "    <tr>\n",
       "      <th>15</th>\n",
       "      <td>2021/2022</td>\n",
       "      <td>2021/2022</td>\n",
       "    </tr>\n",
       "    <tr>\n",
       "      <th>16</th>\n",
       "      <td>2022/2023</td>\n",
       "      <td>2022/2023</td>\n",
       "    </tr>\n",
       "  </tbody>\n",
       "</table>\n",
       "</div>"
      ],
      "text/plain": [
       "           id       text\n",
       "0   2006/2007  2006/2007\n",
       "1   2007/2008  2007/2008\n",
       "2   2008/2009  2008/2009\n",
       "3   2009/2010  2009/2010\n",
       "4   2010/2011  2010/2011\n",
       "5   2011/2012  2011/2012\n",
       "6   2012/2013  2012/2013\n",
       "7   2013/2014  2013/2014\n",
       "8   2014/2015  2014/2015\n",
       "9   2015/2016  2015/2016\n",
       "10  2016/2017  2016/2017\n",
       "11  2017/2018  2017/2018\n",
       "12  2018/2019  2018/2019\n",
       "13  2019/2020  2019/2020\n",
       "14  2020/2021  2020/2021\n",
       "15  2021/2022  2021/2022\n",
       "16  2022/2023  2022/2023"
      ]
     },
     "metadata": {},
     "output_type": "display_data"
    }
   ],
   "source": [
    "# Get an overview of relevant variables to be chosen\n",
    "for variable in tabsum['variable name']:\n",
    "    print(variable+':')\n",
    "    display(ind.variable_levels(variable, language='en'))"
   ]
  },
  {
   "cell_type": "code",
   "execution_count": 14,
   "metadata": {},
   "outputs": [
    {
     "data": {
      "text/plain": [
       "{'table': 'idrtil01',\n",
       " 'format': 'BULK',\n",
       " 'lang': 'en',\n",
       " 'variables': [{'code': 'SPORTS', 'values': ['*']},\n",
       "  {'code': 'TILSKUER', 'values': ['*']},\n",
       "  {'code': 'Tid', 'values': ['*']}]}"
      ]
     },
     "execution_count": 14,
     "metadata": {},
     "output_type": "execute_result"
    }
   ],
   "source": [
    "params = ind._define_base_params(language='en')\n",
    "params"
   ]
  },
  {
   "cell_type": "markdown",
   "metadata": {},
   "source": [
    "We now choose the relevant variables from the dataset (recall, the attendance to top league and national team games)."
   ]
  },
  {
   "cell_type": "code",
   "execution_count": 15,
   "metadata": {},
   "outputs": [
    {
     "data": {
      "text/html": [
       "<div>\n",
       "<style scoped>\n",
       "    .dataframe tbody tr th:only-of-type {\n",
       "        vertical-align: middle;\n",
       "    }\n",
       "\n",
       "    .dataframe tbody tr th {\n",
       "        vertical-align: top;\n",
       "    }\n",
       "\n",
       "    .dataframe thead th {\n",
       "        text-align: right;\n",
       "    }\n",
       "</style>\n",
       "<table border=\"1\" class=\"dataframe\">\n",
       "  <thead>\n",
       "    <tr style=\"text-align: right;\">\n",
       "      <th></th>\n",
       "      <th>event</th>\n",
       "      <th>year</th>\n",
       "      <th>avr_attend</th>\n",
       "    </tr>\n",
       "  </thead>\n",
       "  <tbody>\n",
       "    <tr>\n",
       "      <th>0</th>\n",
       "      <td>icehockey_league</td>\n",
       "      <td>2006/2007</td>\n",
       "      <td>..</td>\n",
       "    </tr>\n",
       "    <tr>\n",
       "      <th>1</th>\n",
       "      <td>icehockey_league</td>\n",
       "      <td>2007/2008</td>\n",
       "      <td>..</td>\n",
       "    </tr>\n",
       "    <tr>\n",
       "      <th>2</th>\n",
       "      <td>icehockey_league</td>\n",
       "      <td>2008/2009</td>\n",
       "      <td>1437</td>\n",
       "    </tr>\n",
       "    <tr>\n",
       "      <th>3</th>\n",
       "      <td>icehockey_league</td>\n",
       "      <td>2009/2010</td>\n",
       "      <td>1362</td>\n",
       "    </tr>\n",
       "    <tr>\n",
       "      <th>4</th>\n",
       "      <td>icehockey_league</td>\n",
       "      <td>2011/2012</td>\n",
       "      <td>1489</td>\n",
       "    </tr>\n",
       "    <tr>\n",
       "      <th>...</th>\n",
       "      <td>...</td>\n",
       "      <td>...</td>\n",
       "      <td>...</td>\n",
       "    </tr>\n",
       "    <tr>\n",
       "      <th>131</th>\n",
       "      <td>football_national</td>\n",
       "      <td>2020/2021</td>\n",
       "      <td>6880</td>\n",
       "    </tr>\n",
       "    <tr>\n",
       "      <th>132</th>\n",
       "      <td>basketball_league</td>\n",
       "      <td>2020/2021</td>\n",
       "      <td>99</td>\n",
       "    </tr>\n",
       "    <tr>\n",
       "      <th>133</th>\n",
       "      <td>icehockey_national</td>\n",
       "      <td>2021/2022</td>\n",
       "      <td>1500</td>\n",
       "    </tr>\n",
       "    <tr>\n",
       "      <th>134</th>\n",
       "      <td>football_national</td>\n",
       "      <td>2021/2022</td>\n",
       "      <td>35314</td>\n",
       "    </tr>\n",
       "    <tr>\n",
       "      <th>135</th>\n",
       "      <td>basketball_league</td>\n",
       "      <td>2021/2022</td>\n",
       "      <td>462</td>\n",
       "    </tr>\n",
       "  </tbody>\n",
       "</table>\n",
       "<p>136 rows × 3 columns</p>\n",
       "</div>"
      ],
      "text/plain": [
       "                  event       year avr_attend\n",
       "0      icehockey_league  2006/2007         ..\n",
       "1      icehockey_league  2007/2008         ..\n",
       "2      icehockey_league  2008/2009       1437\n",
       "3      icehockey_league  2009/2010       1362\n",
       "4      icehockey_league  2011/2012       1489\n",
       "..                  ...        ...        ...\n",
       "131   football_national  2020/2021       6880\n",
       "132   basketball_league  2020/2021         99\n",
       "133  icehockey_national  2021/2022       1500\n",
       "134   football_national  2021/2022      35314\n",
       "135   basketball_league  2021/2022        462\n",
       "\n",
       "[136 rows x 3 columns]"
      ]
     },
     "execution_count": 15,
     "metadata": {},
     "output_type": "execute_result"
    }
   ],
   "source": [
    "from dataproject import sport_api\n",
    "sport_api"
   ]
  },
  {
   "cell_type": "markdown",
   "metadata": {},
   "source": [
    "We encounter a challenge in our dataset: in Denmark, sports seasons begin and end in the summer rather than aligning with the calendar year. To simplify our analysis, we will adopt the following approach:\n",
    "\n",
    "We will consider the 2006/2007 season as 2006, the 2007/2008 season as 2007, and so forth, with the 2022/2023 season counted as 2022. While this arrangement is not perfect, it is necessary for our analysis."
   ]
  },
  {
   "cell_type": "code",
   "execution_count": 16,
   "metadata": {},
   "outputs": [
    {
     "data": {
      "text/html": [
       "<div>\n",
       "<style scoped>\n",
       "    .dataframe tbody tr th:only-of-type {\n",
       "        vertical-align: middle;\n",
       "    }\n",
       "\n",
       "    .dataframe tbody tr th {\n",
       "        vertical-align: top;\n",
       "    }\n",
       "\n",
       "    .dataframe thead th {\n",
       "        text-align: right;\n",
       "    }\n",
       "</style>\n",
       "<table border=\"1\" class=\"dataframe\">\n",
       "  <thead>\n",
       "    <tr style=\"text-align: right;\">\n",
       "      <th></th>\n",
       "      <th>event</th>\n",
       "      <th>year</th>\n",
       "      <th>avr_attend</th>\n",
       "      <th>avr_attend_numeric</th>\n",
       "    </tr>\n",
       "  </thead>\n",
       "  <tbody>\n",
       "    <tr>\n",
       "      <th>0</th>\n",
       "      <td>icehockey_league</td>\n",
       "      <td>2006</td>\n",
       "      <td>..</td>\n",
       "      <td>NaN</td>\n",
       "    </tr>\n",
       "    <tr>\n",
       "      <th>1</th>\n",
       "      <td>icehockey_league</td>\n",
       "      <td>2007</td>\n",
       "      <td>..</td>\n",
       "      <td>NaN</td>\n",
       "    </tr>\n",
       "    <tr>\n",
       "      <th>2</th>\n",
       "      <td>icehockey_league</td>\n",
       "      <td>2008</td>\n",
       "      <td>1437</td>\n",
       "      <td>1437.0</td>\n",
       "    </tr>\n",
       "    <tr>\n",
       "      <th>3</th>\n",
       "      <td>icehockey_league</td>\n",
       "      <td>2009</td>\n",
       "      <td>1362</td>\n",
       "      <td>1362.0</td>\n",
       "    </tr>\n",
       "    <tr>\n",
       "      <th>4</th>\n",
       "      <td>icehockey_league</td>\n",
       "      <td>2011</td>\n",
       "      <td>1489</td>\n",
       "      <td>1489.0</td>\n",
       "    </tr>\n",
       "    <tr>\n",
       "      <th>...</th>\n",
       "      <td>...</td>\n",
       "      <td>...</td>\n",
       "      <td>...</td>\n",
       "      <td>...</td>\n",
       "    </tr>\n",
       "    <tr>\n",
       "      <th>131</th>\n",
       "      <td>football_national</td>\n",
       "      <td>2020</td>\n",
       "      <td>6880</td>\n",
       "      <td>6880.0</td>\n",
       "    </tr>\n",
       "    <tr>\n",
       "      <th>132</th>\n",
       "      <td>basketball_league</td>\n",
       "      <td>2020</td>\n",
       "      <td>99</td>\n",
       "      <td>99.0</td>\n",
       "    </tr>\n",
       "    <tr>\n",
       "      <th>133</th>\n",
       "      <td>icehockey_national</td>\n",
       "      <td>2021</td>\n",
       "      <td>1500</td>\n",
       "      <td>1500.0</td>\n",
       "    </tr>\n",
       "    <tr>\n",
       "      <th>134</th>\n",
       "      <td>football_national</td>\n",
       "      <td>2021</td>\n",
       "      <td>35314</td>\n",
       "      <td>35314.0</td>\n",
       "    </tr>\n",
       "    <tr>\n",
       "      <th>135</th>\n",
       "      <td>basketball_league</td>\n",
       "      <td>2021</td>\n",
       "      <td>462</td>\n",
       "      <td>462.0</td>\n",
       "    </tr>\n",
       "  </tbody>\n",
       "</table>\n",
       "<p>136 rows × 4 columns</p>\n",
       "</div>"
      ],
      "text/plain": [
       "                  event  year avr_attend  avr_attend_numeric\n",
       "0      icehockey_league  2006         ..                 NaN\n",
       "1      icehockey_league  2007         ..                 NaN\n",
       "2      icehockey_league  2008       1437              1437.0\n",
       "3      icehockey_league  2009       1362              1362.0\n",
       "4      icehockey_league  2011       1489              1489.0\n",
       "..                  ...   ...        ...                 ...\n",
       "131   football_national  2020       6880              6880.0\n",
       "132   basketball_league  2020         99                99.0\n",
       "133  icehockey_national  2021       1500              1500.0\n",
       "134   football_national  2021      35314             35314.0\n",
       "135   basketball_league  2021        462               462.0\n",
       "\n",
       "[136 rows x 4 columns]"
      ]
     },
     "execution_count": 16,
     "metadata": {},
     "output_type": "execute_result"
    }
   ],
   "source": [
    "from dataproject import sport_api_annual\n",
    "sport_api_annual"
   ]
  },
  {
   "cell_type": "code",
   "execution_count": 17,
   "metadata": {},
   "outputs": [],
   "source": [
    "# Making the column \"avr_attend\" numerical\n",
    "sport_api_annual['avr_attend_numeric'] = pd.to_numeric(sport_api_annual['avr_attend'], errors='coerce')\n",
    "\n",
    "# Set up an interactive plot\n",
    "def plot_f(df, sport):\n",
    "    I = df['event'] == sport\n",
    "    ax=df.loc[I,:].plot(x='year', y='avr_attend_numeric', style='-o', legend=False)\n",
    "    ax.set_ylabel('Attendance')\n",
    "    ax.set_xlabel('Year')\n",
    "    ax.set_title(f'Attendance at {sport}')"
   ]
  },
  {
   "cell_type": "code",
   "execution_count": 18,
   "metadata": {},
   "outputs": [
    {
     "data": {
      "application/vnd.jupyter.widget-view+json": {
       "model_id": "fa2c36a4350148638070109ecff651de",
       "version_major": 2,
       "version_minor": 0
      },
      "text/plain": [
       "interactive(children=(Dropdown(description='event', index=6, options=('icehockey_league', 'football_league', '…"
      ]
     },
     "metadata": {},
     "output_type": "display_data"
    }
   ],
   "source": [
    "widgets.interact(plot_f,\n",
    "    df = widgets.fixed(sport_api_annual),\n",
    "    sport = widgets.Dropdown(description='event',\n",
    "                             options=sport_api_annual.event.unique(),\n",
    "                             value='football_national') \n",
    ");"
   ]
  },
  {
   "cell_type": "markdown",
   "metadata": {},
   "source": [
    "## 4. <a id='toc4_'></a>[Merging datasets](#toc4_)"
   ]
  },
  {
   "cell_type": "markdown",
   "metadata": {},
   "source": [
    "We aim to prepare our dataset for merging. To achieve this, we consolidate the attendance dataset by creating a single overarching variable for each sport. \n",
    "$$\n",
    "sport_{i} = sport_{i}national + sport_{i}league,\n",
    "$$\n",
    "where $i={basketball,football,handball,icehockey}$. Now each sport variable measures the overall attendance in a given year for both national team and league teams. "
   ]
  },
  {
   "cell_type": "code",
   "execution_count": 19,
   "metadata": {},
   "outputs": [],
   "source": [
    "# We drop the non-numeric attend-variable\n",
    "sport_api_annual = sport_api_annual.drop(columns=['avr_attend'])"
   ]
  },
  {
   "cell_type": "code",
   "execution_count": 20,
   "metadata": {},
   "outputs": [],
   "source": [
    "# We group the data by 'year' and 'event'\n",
    "grouped_data = sport_api_annual.groupby(['year', 'event'])['avr_attend_numeric'].sum().reset_index()\n",
    "\n",
    "# Select and filter only the 'national' and 'league' observations for each sport, then create a new variable for each\n",
    "sports = ['icehockey', 'football', 'basketball', 'handball']\n",
    "for sport in sports:\n",
    "    filtered_data = grouped_data[grouped_data['event'].str.contains(sport)]\n",
    "    overall_attend = filtered_data.groupby('year')['avr_attend_numeric'].sum().reset_index()\n",
    "    overall_attend.rename(columns={'avr_attend_numeric': f'{sport}_overall_attend'}, inplace=True)\n",
    "    sport_api_annual = sport_api_annual.merge(overall_attend, on='year', how='left')"
   ]
  },
  {
   "cell_type": "code",
   "execution_count": 21,
   "metadata": {},
   "outputs": [],
   "source": [
    "# We construct the overall sport variable\n",
    "sport_api_annual['event'] = sport_api_annual['event'].replace({\n",
    "    'icehockey_national': 'icehockey',\n",
    "    'icehockey_league': 'icehockey',\n",
    "    'football_national': 'football',\n",
    "    'football_league': 'football',\n",
    "    'handball_national': 'handball',\n",
    "    'handball_league': 'handball',\n",
    "    'basketball_national': 'basketball',\n",
    "    'basketball_league': 'basketball'\n",
    "})\n",
    "\n",
    "# Drop duplicates\n",
    "sport_api_annual = sport_api_annual.drop(columns=['avr_attend_numeric'])\n",
    "sport_api_annual = sport_api_annual.drop_duplicates()"
   ]
  },
  {
   "cell_type": "code",
   "execution_count": 22,
   "metadata": {},
   "outputs": [],
   "source": [
    "# Make year the same type (string)\n",
    "sport_long['year'] = sport_long['year'].astype(str)\n",
    "\n",
    "# We merge based on 'year' and 'event'\n",
    "merged = pd.merge(sport_long, sport_api_annual, on=['year','event'], how='inner')"
   ]
  },
  {
   "cell_type": "markdown",
   "metadata": {},
   "source": [
    "We create four separate datasets to make the data more manageable:"
   ]
  },
  {
   "cell_type": "code",
   "execution_count": 23,
   "metadata": {},
   "outputs": [],
   "source": [
    "for sport in sports:\n",
    "    globals()[f\"{sport}_data\"] = merged[merged['event'] == sport]\n",
    "\n",
    "handball_data = handball_data.drop(['icehockey_overall_attend', 'football_overall_attend', 'basketball_overall_attend'], axis=1)\n",
    "football_data = football_data.drop(['icehockey_overall_attend', 'handball_overall_attend', 'basketball_overall_attend'], axis=1)\n",
    "basketball_data = basketball_data.drop(['icehockey_overall_attend', 'football_overall_attend', 'handball_overall_attend'], axis=1)\n",
    "icehockey_data = icehockey_data.drop(['handball_overall_attend', 'football_overall_attend', 'basketball_overall_attend'], axis=1)"
   ]
  },
  {
   "cell_type": "markdown",
   "metadata": {},
   "source": [
    "Now each dataset contains information about the year, the number of memberships, and the average number of attendances for national league and national team matches. "
   ]
  },
  {
   "cell_type": "markdown",
   "metadata": {},
   "source": [
    "## 5. <a id='toc5_'></a>[Analysis](#toc5_)"
   ]
  },
  {
   "cell_type": "markdown",
   "metadata": {},
   "source": [
    "We now want to examine if there is a correlation between attendance and memberships in the respective sports."
   ]
  },
  {
   "cell_type": "code",
   "execution_count": 24,
   "metadata": {},
   "outputs": [
    {
     "data": {
      "image/png": "[encoded data removed]",
      "text/plain": [
       "<Figure size 1200x1000 with 4 Axes>"
      ]
     },
     "metadata": {},
     "output_type": "display_data"
    }
   ],
   "source": [
    "fig, axs = plt.subplots(2, 2, figsize=(12, 10))\n",
    "# Football\n",
    "sns.regplot(ax=axs[0, 0], x=football_data['sport_'], y=football_data['football_overall_attend'], scatter_kws={'alpha':0.9})\n",
    "axs[0, 0].set_xlabel('Memberships')\n",
    "axs[0, 0].set_ylabel('Attendance')\n",
    "axs[0, 0].set_title('Football')\n",
    "#Handball\n",
    "sns.regplot(ax=axs[0, 1], x=handball_data['sport_'], y=handball_data['handball_overall_attend'], scatter_kws={'alpha':0.9})\n",
    "axs[0, 1].set_xlabel('Memberships')\n",
    "axs[0, 1].set_ylabel('Attendance')\n",
    "axs[0, 1].set_title('Handball')\n",
    "axs[0, 1].set_ylim(0)\n",
    "\n",
    "# Basketball\n",
    "sns.regplot(ax=axs[1, 0], x=basketball_data['sport_'], y=basketball_data['basketball_overall_attend'], scatter_kws={'alpha':0.9})\n",
    "axs[1, 0].set_xlabel('Memberships')\n",
    "axs[1, 0].set_ylabel('Attendance')\n",
    "axs[1, 0].set_title('Basketball')\n",
    "# Ice hockey\n",
    "sns.regplot(ax=axs[1, 1], x=icehockey_data['sport_'], y=icehockey_data['icehockey_overall_attend'], scatter_kws={'alpha':0.9})\n",
    "axs[1, 1].set_xlabel('Memberships')\n",
    "axs[1, 1].set_ylabel('Attendance')\n",
    "axs[1, 1].set_title('Ice Hockey')\n",
    "\n",
    "plt.tight_layout()\n",
    "\n",
    "plt.show()"
   ]
  },
  {
   "cell_type": "markdown",
   "metadata": {},
   "source": [
    "We find a positive correlation between high number of spectators and memberships when we look at football. Conversely, we find a negative correlation between attendance and memberships in ice hockey - i.e., a higher level of attendancy in ice hockey is correlated with a lower level of ice hockey memberships. For basketball and handball we we find no significant correlation. "
   ]
  },
  {
   "cell_type": "markdown",
   "metadata": {},
   "source": [
    "## 6. <a id='toc6_'></a>[Concluding remarks](#toc6_)"
   ]
  },
  {
   "cell_type": "markdown",
   "metadata": {},
   "source": [
    "When examining the correlation between memberships in sports organizations and attendances, we only find a positive correlation in football. For ice hockey the two variables are negatively correlated, and for handball and basket ball we find no significant correlation. This is a puzzling results as we expected a positive correlation between memberships and attendance across all sports. \n",
    "\n",
    "However, we recognize that our data itself had its problems. One counted on annual basis, the other seasonally - moreover one counted the memberships of adults while the other counted attendance of all age groups. Regarding, the Covid-19 pandemic, we see that memberships drops but not as substantially as attendances as spectators were prohibited to watch sports in the stadiums for a period. This creates bias in our results. \n",
    "\n",
    "Given our data, our results suggest that other factors may play a more substantial role in attracting spectators to events in ice hockey, handball, and basketball. However, the bias from our data limits the external validity of our results."
   ]
  }
 ],
 "metadata": {
  "kernelspec": {
   "display_name": "base",
   "language": "python",
   "name": "python3"
  },
  "language_info": {
   "codemirror_mode": {
    "name": "ipython",
    "version": 3
   },
   "file_extension": ".py",
   "mimetype": "text/x-python",
   "name": "python",
   "nbconvert_exporter": "python",
   "pygments_lexer": "ipython3",
   "version": "3.11.7"
  }
 },
 "nbformat": 4,
 "nbformat_minor": 2
}
