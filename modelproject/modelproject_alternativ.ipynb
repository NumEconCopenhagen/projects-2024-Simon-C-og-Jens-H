{
 "cells": [
  {
   "cell_type": "markdown",
   "metadata": {},
   "source": [
    "# Model Project"
   ]
  },
  {
   "cell_type": "markdown",
   "metadata": {},
   "source": [
    "**Table of contents**<a id='toc0_'></a>  \n",
    "- [1. Objective](#toc1_)\n",
    "- [2. Import of packages](#toc2_)\n",
    "- [3. Model description](#toc3_)\n",
    "- [4. Analytical solution](#toc4_)\n",
    "- [5. Numerical solution](#toc5_)\n",
    "- [6. Further analysis](#toc6_)\n",
    "- [7. Concluding remarks](#toc7_)"
   ]
  },
  {
   "cell_type": "markdown",
   "metadata": {},
   "source": [
    "## 1. <a id='toc1_'></a>[Objectives](#toc1_)"
   ]
  },
  {
   "cell_type": "markdown",
   "metadata": {},
   "source": [
    "This notebook examines the OLG model, and look at how population growth affects the outcome of the model."
   ]
  },
  {
   "cell_type": "markdown",
   "metadata": {},
   "source": [
    "## 2. <a id='toc2_'></a>[Import of packages](#toc2_)"
   ]
  },
  {
   "cell_type": "code",
   "execution_count": 19,
   "metadata": {},
   "outputs": [
    {
     "name": "stdout",
     "output_type": "stream",
     "text": [
      "The autoreload extension is already loaded. To reload it, use:\n",
      "  %reload_ext autoreload\n"
     ]
    }
   ],
   "source": [
    "import numpy as np\n",
    "from scipy import optimize\n",
    "import sympy as sm\n",
    "from types import SimpleNamespace\n",
    "\n",
    "%load_ext autoreload\n",
    "%autoreload 2\n",
    "\n",
    "import ipywidgets as widgets\n",
    "\n",
    "import matplotlib.pyplot as plt\n",
    "plt.rcParams.update({\"axes.grid\":True,\"grid.color\":\"black\",\"grid.alpha\":\"0.25\",\"grid.linestyle\":\"--\"})\n",
    "plt.rcParams.update({'font.size': 14})"
   ]
  },
  {
   "cell_type": "markdown",
   "metadata": {},
   "source": [
    "## 3. <a id='toc3_'></a>[Model description](#toc3_)"
   ]
  },
  {
   "cell_type": "markdown",
   "metadata": {},
   "source": [
    "## The OLG Model "
   ]
  },
  {
   "cell_type": "markdown",
   "metadata": {},
   "source": [
    "The OLG model consists of 2 periods and 2 groups, young and old. The production function is a standard Cobb-Douglas function:\n",
    "$$\n",
    "Y_{t}=AK_{t}^{\\alpha}L_{t}^{1-\\alpha}\n",
    "$$\n",
    "with $t=1,2,...,\\infty$ and $1>\\alpha>0$. $K$ is capital and $L$ is the labor force which consists entirely of the young population. \n",
    "\\\n",
    "\\\n",
    "Capital accumulation is equal to how much is being saved in the economy. Note that it is only the young people who save:\n",
    "$$\n",
    "K_{t+1}=s_{t}L_{t}\n",
    "$$\n",
    "for simplicity, we assume that capital does not depreciate, $\\delta=0$.\n",
    "\\\n",
    "\\\n",
    "$L_{t}$ is the number of people born in period $t$, which grow at the constant rate, $n$:\n",
    "$$\n",
    "L_{t+1}=L_{t}(1+n)\n",
    "$$\n"
   ]
  },
  {
   "cell_type": "markdown",
   "metadata": {},
   "source": [
    "The firms have the profit maximization problem: \n",
    "$$\n",
    "\\underset{K_{t}L_{t}}{max}\\quad AK_{t}^{\\alpha}L_{t}^{1-\\alpha}-r_{t}K_{t}-w_{t}L_{t}\n",
    "$$\n",
    "with $r_{t}$ and $w_{t}$ being the factor prices. We now that the standard solutions for factor prices in a Cobb-Douglas production function:\n",
    "$$\n",
    "r_{t}=A\\alpha k_{t}^{\\alpha-1}\n",
    "$$\n",
    "$$\n",
    "w_{t}=A(1-\\alpha)k_{t}^{\\alpha}\n",
    "$$\n",
    "with A being the factor productivity, $A>0$. $k_t$ is capital per capita, $k_{t}=\\frac{K_{t}}{L_{t}}$\n"
   ]
  },
  {
   "cell_type": "markdown",
   "metadata": {},
   "source": [
    "The agents in the economy get utility from consuming:\n",
    "$$\n",
    "U_{t}=ln(c_{1t})+\\beta ln(c_{2t+1})\n",
    "$$\n",
    "with $c_{1t}$ being consumption when young, and $c_{2t+1}$ when old. $\\beta=\\frac{1}{1+\\rho}$, with $\\rho$ being the discount rate, $\\rho>-1$, ensuring the parameter $\\beta$ is positive."
   ]
  },
  {
   "cell_type": "markdown",
   "metadata": {},
   "source": [
    "The agents have budget constraints,\n",
    "$$\n",
    "c_{1t}+s_{t}=w_{t}\n",
    "$$\n",
    "$$\n",
    "c_{2t+1}=(1+r_{t+1})s_{t}\n",
    "$$\n",
    "The young agents consume their wages minus what they save, while the old consume their savings with interests. This yield the lifetime budget constraint, \n",
    "$$\n",
    "c_{1t}+\\frac{c_{2t+1}}{1+r_{t+1}}=w_{t}\n",
    "$$"
   ]
  },
  {
   "cell_type": "markdown",
   "metadata": {},
   "source": [
    "The basics of the model is now in place. Next step is to solve the household maximization problem:\n",
    "$$\n",
    "\\underset{c_{1t},c_{2t+1}}{max}\\quad ln(c_{1t})+\\beta ln(c_{2t+1}) \\quad s.t. \\quad c_{1t}+\\frac{c_{2t+1}}{1+r_{t+1}}=w_{t}\n",
    "$$\n",
    "The problem is solved with Lagrange and yields the Euler-equation:\n",
    "$$\n",
    "c_{2t+1}=\\frac{1+r_{t+1}}{1+\\rho}c_{1t}\n",
    "$$"
   ]
  },
  {
   "cell_type": "markdown",
   "metadata": {},
   "source": [
    "Combining the Euler-equation with the budget constraints, we obtain the optimal saving:\n",
    "$$\n",
    "s_{t}=\\frac{1}{2+\\rho}w_{t}\n",
    "$$\n",
    "Using that $s_{t}=k_{t+1}(1+n)$, we can find the capital accumulation per capita:\n",
    "$$\n",
    "k_{t+1}(1+n)=\\frac{1}{2+\\rho}w_{t}\n",
    "$$\n",
    "$$\n",
    "\\Leftrightarrow\n",
    "$$\n",
    "$$\n",
    "k_{t+1}=\\frac{A(1-\\alpha)k_{t}^{\\alpha}}{(1+n)(2+\\rho)}\n",
    "$$"
   ]
  },
  {
   "cell_type": "markdown",
   "metadata": {},
   "source": [
    "In steady state we have that, $k_{t+1}=k_{t}=k^{*}$:\n",
    "$$\n",
    "k^{*}=(\\frac{A(1-\\alpha)}{(1+n)(2+\\rho)})^{\\frac{1}{1-\\alpha}}\n",
    "$$"
   ]
  },
  {
   "cell_type": "markdown",
   "metadata": {},
   "source": [
    "## 4. <a id='toc4_'></a>[Analytical solution](#toc4_)"
   ]
  },
  {
   "cell_type": "markdown",
   "metadata": {},
   "source": [
    "In this part we will set up the relevant parameters (sm.symbols), solve for steady state(sm.solve), and turn our function into a Python-function (sm.lambdify)"
   ]
  },
  {
   "cell_type": "code",
   "execution_count": 20,
   "metadata": {},
   "outputs": [],
   "source": [
    "alpha = sm.symbols('alpha')\n",
    "rho =  sm.symbols('rho')\n",
    "k = sm.symbols('k')\n",
    "n = sm.symbols('n')\n",
    "A = sm.symbols('A')"
   ]
  },
  {
   "cell_type": "code",
   "execution_count": 21,
   "metadata": {},
   "outputs": [
    {
     "data": {
      "text/latex": [
       "$\\displaystyle k = \\frac{A k^{\\alpha} \\left(1 - \\alpha\\right)}{\\left(n + 1\\right) \\left(\\rho + 2\\right)}$"
      ],
      "text/plain": [
       "Eq(k, A*k**alpha*(1 - alpha)/((n + 1)*(rho + 2)))"
      ]
     },
     "execution_count": 21,
     "metadata": {},
     "output_type": "execute_result"
    }
   ],
   "source": [
    "ss = sm.Eq(k, (A*(1-alpha)*k**alpha)/((1+n)*(2+rho)))\n",
    "ss"
   ]
  },
  {
   "cell_type": "code",
   "execution_count": 22,
   "metadata": {},
   "outputs": [
    {
     "data": {
      "text/latex": [
       "$\\displaystyle \\left(\\frac{A \\left(1 - \\alpha\\right)}{n \\rho + 2 n + \\rho + 2}\\right)^{- \\frac{1}{\\alpha - 1}}$"
      ],
      "text/plain": [
       "(A*(1 - alpha)/(n*rho + 2*n + rho + 2))**(-1/(alpha - 1))"
      ]
     },
     "execution_count": 22,
     "metadata": {},
     "output_type": "execute_result"
    }
   ],
   "source": [
    "ss_solve = sm.solve(ss, k)[0]\n",
    "ss_solve"
   ]
  },
  {
   "cell_type": "markdown",
   "metadata": {},
   "source": [
    "which is equivalent to the steady state derived in part 3."
   ]
  },
  {
   "cell_type": "code",
   "execution_count": 23,
   "metadata": {},
   "outputs": [
    {
     "data": {
      "text/plain": [
       "0.17485671329443958"
      ]
     },
     "execution_count": 23,
     "metadata": {},
     "output_type": "execute_result"
    }
   ],
   "source": [
    "k_solve = sm.lambdify((alpha,rho,n,A),ss_solve)\n",
    "k_solve(1/3,0.05,0.04,1)"
   ]
  },
  {
   "cell_type": "markdown",
   "metadata": {},
   "source": [
    "With our analytical solution, we get that capital per capita is 0.175 in steady state. "
   ]
  },
  {
   "cell_type": "markdown",
   "metadata": {},
   "source": [
    "## 5. <a id='toc5_'></a>[Numerical solution](#toc5_)"
   ]
  },
  {
   "cell_type": "markdown",
   "metadata": {},
   "source": [
    "Next, we solve numerically. First, we define the values for our set of parameters used in the analysis.\n",
    "\n",
    "\n",
    "\n"
   ]
  },
  {
   "cell_type": "code",
   "execution_count": 24,
   "metadata": {},
   "outputs": [],
   "source": [
    "# We define the values for our set of parameters\n",
    "alpha = 1/3\n",
    "rho = 0.05\n",
    "n = 0.04\n",
    "A = 1.00\n",
    "\n",
    "tau = 0.00\n",
    "\n",
    "ks_1 = ((A*(1-alpha))/((1+n)*(2+rho)))**(-1/(alpha-1))"
   ]
  },
  {
   "cell_type": "code",
   "execution_count": 25,
   "metadata": {},
   "outputs": [
    {
     "data": {
      "text/plain": [
       "0.17485671329430136"
      ]
     },
     "execution_count": 25,
     "metadata": {},
     "output_type": "execute_result"
    }
   ],
   "source": [
    "# Defining the objective\n",
    "obj = lambda k: k - ((A*(1-alpha)*k**alpha)/((1+n)*(2+rho)))\n",
    "\n",
    "# Optimizing the model and finding the roots\n",
    "result = optimize.root_scalar(obj,bracket=[1e-10,10],method='bisect') \n",
    "result.root"
   ]
  },
  {
   "cell_type": "markdown",
   "metadata": {},
   "source": [
    "Hence, with our numerical analaysis and based on the given parameter values, we also find the steady state to be 0.175.\n",
    "\n",
    "Since $k_{t+1}$ is a concave function of $k_{t}$ , a unique steady state exists, and convergence to it will occur"
   ]
  },
  {
   "cell_type": "code",
   "execution_count": 30,
   "metadata": {},
   "outputs": [
    {
     "ename": "AttributeError",
     "evalue": "'types.SimpleNamespace' object has no attribute 'initial_K'",
     "output_type": "error",
     "traceback": [
      "\u001b[0;31m---------------------------------------------------------------------------\u001b[0m",
      "\u001b[0;31mAttributeError\u001b[0m                            Traceback (most recent call last)",
      "Cell \u001b[0;32mIn[30], line 8\u001b[0m\n\u001b[1;32m      5\u001b[0m par \u001b[38;5;241m=\u001b[39m model\u001b[38;5;241m.\u001b[39mpar\n\u001b[1;32m      6\u001b[0m sim \u001b[38;5;241m=\u001b[39m model\u001b[38;5;241m.\u001b[39msim\n\u001b[0;32m----> 8\u001b[0m model\u001b[38;5;241m.\u001b[39msim_model()\n",
      "File \u001b[0;32m~/Desktop/Kandidat 1. semester/Programming/projects-2024-Simon-C-og-Jens-H/modelproject/modelproject_alternativ.py:95\u001b[0m, in \u001b[0;36mmodelclass.sim_model\u001b[0;34m(self)\u001b[0m\n\u001b[1;32m     91\u001b[0m sim \u001b[38;5;241m=\u001b[39m \u001b[38;5;28mself\u001b[39m\u001b[38;5;241m.\u001b[39msim\n\u001b[1;32m     93\u001b[0m t0 \u001b[38;5;241m=\u001b[39m time\u001b[38;5;241m.\u001b[39mtime()\n\u001b[0;32m---> 95\u001b[0m sim\u001b[38;5;241m.\u001b[39mK[\u001b[38;5;241m0\u001b[39m] \u001b[38;5;241m=\u001b[39m par\u001b[38;5;241m.\u001b[39minitial_K\n\u001b[1;32m     96\u001b[0m sim\u001b[38;5;241m.\u001b[39mL[\u001b[38;5;241m0\u001b[39m] \u001b[38;5;241m=\u001b[39m par\u001b[38;5;241m.\u001b[39minitial_L\n\u001b[1;32m     98\u001b[0m \u001b[38;5;28;01mfor\u001b[39;00m t \u001b[38;5;129;01min\u001b[39;00m \u001b[38;5;28mrange\u001b[39m(par\u001b[38;5;241m.\u001b[39mperiods):\n",
      "\u001b[0;31mAttributeError\u001b[0m: 'types.SimpleNamespace' object has no attribute 'initial_K'"
     ]
    }
   ],
   "source": [
    "#This code initiates the simulation of the model. \n",
    "from modelproject_alternativ import modelclass\n",
    "\n",
    "model = modelclass()\n",
    "par = model.par\n",
    "sim = model.sim\n",
    "\n",
    "model.sim_model()"
   ]
  },
  {
   "cell_type": "markdown",
   "metadata": {},
   "source": [
    "Both young and old individuals consume more in period $t$ compared to period 0. The consumption of the young increases from 0.186 in period 0 to 0.205 in period $t$, while the consumption of the old rises from 0.255 in period 0 to 0.294 in period $t$. In both periods, the old consume more than the young.\n",
    "\n",
    "The Euler error decreases from -2.308 before simulation to 0.00 after simulating the model. This error indicates how closely the Euler approximation matches the true result, demonstrating that the model is more accurate post-simulation. Furthermore, we observe convergence in the model."
   ]
  },
  {
   "cell_type": "code",
   "execution_count": 32,
   "metadata": {},
   "outputs": [
    {
     "ename": "AttributeError",
     "evalue": "'types.SimpleNamespace' object has no attribute 'initial_K'",
     "output_type": "error",
     "traceback": [
      "\u001b[0;31m---------------------------------------------------------------------------\u001b[0m",
      "\u001b[0;31mAttributeError\u001b[0m                            Traceback (most recent call last)",
      "Cell \u001b[0;32mIn[32], line 2\u001b[0m\n\u001b[1;32m      1\u001b[0m \u001b[38;5;66;03m# a. Calling our simulation and storing new variables \u001b[39;00m\n\u001b[0;32m----> 2\u001b[0m model\u001b[38;5;241m.\u001b[39msim_model()\n\u001b[1;32m      4\u001b[0m \u001b[38;5;66;03m# b. Plotting the simulation\u001b[39;00m\n\u001b[1;32m      5\u001b[0m fig \u001b[38;5;241m=\u001b[39m plt\u001b[38;5;241m.\u001b[39mfigure(figsize\u001b[38;5;241m=\u001b[39m(\u001b[38;5;241m6\u001b[39m,\u001b[38;5;241m6\u001b[39m\u001b[38;5;241m/\u001b[39m\u001b[38;5;241m1.5\u001b[39m))\n",
      "File \u001b[0;32m~/Desktop/Kandidat 1. semester/Programming/projects-2024-Simon-C-og-Jens-H/modelproject/modelproject_alternativ.py:95\u001b[0m, in \u001b[0;36mmodelclass.sim_model\u001b[0;34m(self)\u001b[0m\n\u001b[1;32m     91\u001b[0m sim \u001b[38;5;241m=\u001b[39m \u001b[38;5;28mself\u001b[39m\u001b[38;5;241m.\u001b[39msim\n\u001b[1;32m     93\u001b[0m t0 \u001b[38;5;241m=\u001b[39m time\u001b[38;5;241m.\u001b[39mtime()\n\u001b[0;32m---> 95\u001b[0m sim\u001b[38;5;241m.\u001b[39mK[\u001b[38;5;241m0\u001b[39m] \u001b[38;5;241m=\u001b[39m par\u001b[38;5;241m.\u001b[39minitial_K\n\u001b[1;32m     96\u001b[0m sim\u001b[38;5;241m.\u001b[39mL[\u001b[38;5;241m0\u001b[39m] \u001b[38;5;241m=\u001b[39m par\u001b[38;5;241m.\u001b[39minitial_L\n\u001b[1;32m     98\u001b[0m \u001b[38;5;28;01mfor\u001b[39;00m t \u001b[38;5;129;01min\u001b[39;00m \u001b[38;5;28mrange\u001b[39m(par\u001b[38;5;241m.\u001b[39mperiods):\n",
      "\u001b[0;31mAttributeError\u001b[0m: 'types.SimpleNamespace' object has no attribute 'initial_K'"
     ]
    }
   ],
   "source": [
    "# a. Calling our simulation and storing new variables \n",
    "model.sim_model()\n",
    "\n",
    "# b. Plotting the simulation\n",
    "fig = plt.figure(figsize=(6,6/1.5))\n",
    "ax = fig.add_subplot(1,1,1)\n",
    "ax.plot(model.sim.k,label=r'$k_{t}$') # Plotting k\n",
    "ax.axhline(ks_1,ls='--',color='black',label='analytical steady state') # Plotting the analytical steady state\n",
    "ax.legend(frameon=True,fontsize=12)\n",
    "ax.set_title('Convergence of capital accumulation')\n",
    "ax.set_xlabel('Numbers of periods')\n",
    "ax.set_ylabel('Steady state value')\n",
    "fig.tight_layout()\n",
    "sim_k_old = model.sim.k.copy() # Creating a copy of the steady state simulation for later"
   ]
  },
  {
   "cell_type": "markdown",
   "metadata": {},
   "source": [
    "The plot shows that the analytical steady state is around 0.175, which is consistent with the analytical and numerical solution found earlier in the project. \n",
    "\n",
    "Moreover, we observe that capital accumulation converges toward this steady state, taking approximately six simulations to do so."
   ]
  },
  {
   "cell_type": "markdown",
   "metadata": {},
   "source": [
    "## 6. <a id='toc6_'></a>[Further analysis](#toc6_)"
   ]
  },
  {
   "cell_type": "markdown",
   "metadata": {},
   "source": [
    "### PAYG\n",
    "We now want to introduce the Pay-as-you-go system to our model. In this system the government raises contributions, $d_{t}$ from current young, and pays them out to current old. "
   ]
  },
  {
   "cell_type": "markdown",
   "metadata": {},
   "source": [
    "$$\n",
    "b_{t}=(1+n)d_{t}\n",
    "$$\n",
    "A fraction of the wage, $\\tau$, is added to the contribution, $d_{t}=\\tau w_{t}$.  \n",
    "We now have the new budget constraints: \n",
    "$$\n",
    "c_{1t}+s_{t}+d_{t}=w_{t}\n",
    "$$\n",
    "$$\n",
    "c_{2t+1}=(1+r_{t+1})s_{t}+(1+n)d_{t+1}\n",
    "$$"
   ]
  },
  {
   "cell_type": "markdown",
   "metadata": {},
   "source": [
    "We now have a new expression for optimal saving:\n",
    "$$\n",
    "s_{t}=\\frac{1}{2+\\rho}[(w_{t}-d_{t})-\\frac{1+\\rho}{r_{t+1}}(1+n)d_{t+1}]\n",
    "$$\n",
    "We can now derive capital per capita: \n",
    "$$\n",
    "k_{t+1}=\\frac{1}{1+\\frac{1+\\rho}{2+\\rho}\\frac{1-\\alpha}{\\alpha}\\tau}(\\frac{1}{(1+n)(2+\\rho)}(1-\\tau)w_{t})\n",
    "$$\n",
    "Equal to its steady state, \n",
    "$$\n",
    "k^{*}=\\frac{1}{1+\\frac{1+\\rho}{2+\\rho}\\frac{1-\\alpha}{\\alpha}\\tau}(\\frac{1}{(1+n)(2+\\rho)}(1-\\tau)w_{t})\n",
    "\n",
    "$$"
   ]
  },
  {
   "cell_type": "code",
   "execution_count": 18,
   "metadata": {},
   "outputs": [
    {
     "name": "stdout",
     "output_type": "stream",
     "text": [
      "Tax set to 0.2 yields the steady state level: 0.311\n",
      "Tax set to 0.25 yields the steady state level: 0.280\n",
      "Tax set to 0.3 yields the steady state level: 0.251\n",
      "Tax set to 0.35 yields the steady state level: 0.224\n",
      "Tax set to 0.4 yields the steady state level: 0.200\n",
      "Tax set to 0.45 yields the steady state level: 0.177\n",
      "Tax set to 0.5 yields the steady state level: 0.155\n"
     ]
    }
   ],
   "source": [
    "def f(k, n, alpha, rho, tau, wt):\n",
    "    numerator = (1 - tau) * wt / ((1 + n) * (2 + rho))\n",
    "    denominator = 1 + ((1 + rho) / (2 + rho)) * ((1 - alpha) / alpha) * tau\n",
    "    return k - numerator / denominator\n",
    "\n",
    "# Setting n\n",
    "ns = [0.20, 0.25, 0.30, 0.35, 0.40, 0.45, 0.50]\n",
    "\n",
    "wt = 1\n",
    "\n",
    "# Creating an empty list to store the values of steady state\n",
    "solution = []\n",
    "\n",
    "# Creating a loop and optimizing using bisect method\n",
    "for tau in ns: \n",
    "    f_a = lambda k: f(k, n, alpha, rho, tau, wt)\n",
    "    res = optimize.root_scalar(f_a, bracket=[1e-10, 10], method='bisect') \n",
    "    solution.append(res.root)\n",
    "    print(f'Tax set to {tau:} yields the steady state level: {res.root :.3f}')"
   ]
  },
  {
   "cell_type": "markdown",
   "metadata": {},
   "source": [
    "Clearly, as the tax level rises, the capital accumulation in steady state decreases. An illustration follows:"
   ]
  },
  {
   "cell_type": "code",
   "execution_count": 16,
   "metadata": {},
   "outputs": [
    {
     "data": {
      "image/png": "[encoded data removed]",
      "text/plain": [
       "<Figure size 640x480 with 1 Axes>"
      ]
     },
     "metadata": {},
     "output_type": "display_data"
    }
   ],
   "source": [
    "# Creating figure\n",
    "def plot_n():\n",
    "    fig = plt.figure()\n",
    "\n",
    "    # Creating the plot\n",
    "    ax = fig.add_subplot(1,1,1)\n",
    "\n",
    "    ax.plot(ns, solution)\n",
    "\n",
    "    # Add labels and title\n",
    "    ax.set_title('Capital for different tax levels')\n",
    "    ax.set_xlabel('Tax')\n",
    "    ax.set_ylabel('Capital')\n",
    "\n",
    "# Print\n",
    "plot_n()"
   ]
  },
  {
   "cell_type": "code",
   "execution_count": null,
   "metadata": {},
   "outputs": [],
   "source": []
  },
  {
   "cell_type": "markdown",
   "metadata": {},
   "source": [
    "## 7. <a id='toc7_'></a>[Concluding remarks](#toc7_)"
   ]
  }
 ],
 "metadata": {
  "kernelspec": {
   "display_name": "base",
   "language": "python",
   "name": "python3"
  },
  "language_info": {
   "codemirror_mode": {
    "name": "ipython",
    "version": 3
   },
   "file_extension": ".py",
   "mimetype": "text/x-python",
   "name": "python",
   "nbconvert_exporter": "python",
   "pygments_lexer": "ipython3",
   "version": "3.11.7"
  }
 },
 "nbformat": 4,
 "nbformat_minor": 2
}
