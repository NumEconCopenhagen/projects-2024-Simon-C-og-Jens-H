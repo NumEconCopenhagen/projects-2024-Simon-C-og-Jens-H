{
 "cells": [
  {
   "cell_type": "markdown",
   "metadata": {},
   "source": [
    "# Model Project"
   ]
  },
  {
   "cell_type": "markdown",
   "metadata": {},
   "source": [
    "**Table of contents**<a id='toc0_'></a>  \n",
    "- [1. Objective](#toc1_)\n",
    "- [2. Import of packages](#toc2_)\n",
    "- [3. Model description](#toc3_)\n",
    "- [4. Analytical solution](#toc4_)\n",
    "- [5. Numerical solution](#toc5_)\n",
    "- [6. Shock to the model](#toc6_)\n",
    "- [7. Concluding remarks](#toc7_)"
   ]
  },
  {
   "cell_type": "markdown",
   "metadata": {},
   "source": [
    "## 1. <a id='toc1_'></a>[Objectives](#toc1_)"
   ]
  },
  {
   "cell_type": "markdown",
   "metadata": {},
   "source": [
    "This notebook examines the OLG model, and look at how population growth affects the outcome of the model."
   ]
  },
  {
   "cell_type": "markdown",
   "metadata": {},
   "source": [
    "## 2. <a id='toc2_'></a>[Import of packages](#toc2_)"
   ]
  },
  {
   "cell_type": "code",
   "execution_count": 1,
   "metadata": {},
   "outputs": [],
   "source": [
    "import numpy as np\n",
    "from scipy import optimize\n",
    "import sympy as sm\n",
    "from types import SimpleNamespace\n",
    "\n",
    "%load_ext autoreload\n",
    "%autoreload 2\n",
    "\n",
    "import ipywidgets as widgets\n",
    "\n",
    "import matplotlib.pyplot as plt\n",
    "plt.rcParams.update({\"axes.grid\":True,\"grid.color\":\"black\",\"grid.alpha\":\"0.25\",\"grid.linestyle\":\"--\"})\n",
    "plt.rcParams.update({'font.size': 14})"
   ]
  },
  {
   "cell_type": "markdown",
   "metadata": {},
   "source": [
    "## 3. <a id='toc3_'></a>[Model description](#toc3_)"
   ]
  },
  {
   "cell_type": "markdown",
   "metadata": {},
   "source": [
    "## The OLG Model "
   ]
  },
  {
   "cell_type": "markdown",
   "metadata": {},
   "source": [
    "The OLG model consists of 2 periods and 2 groups, young and old. The production function is a standard Cobb-Douglas function:\n",
    "$$\n",
    "Y_{t}=AK_{t}^{\\alpha}L_{t}^{1-\\alpha}\n",
    "$$\n",
    "with $t=1,2$ and $1>\\alpha>0$. $K$ is capital and $L$ is the labor force which consists entirely of the young population. \n",
    "\\\n",
    "\\\n",
    "Capital accumulation is equal to how much is being saved in the economy. Note that it is only the young people who save:\n",
    "$$\n",
    "K_{t+1}=s_{t}L_{t}\n",
    "$$\n",
    "for simplicity, we assume that capital does not depreciate, $\\delta=0$.\n",
    "\\\n",
    "\\\n",
    "$L_{t}$ is the number of people born in period $t$, which grow at the constant rate, $n$:\n",
    "$$\n",
    "L_{t+1}=L_{t}(1+n)\n",
    "$$\n"
   ]
  },
  {
   "cell_type": "markdown",
   "metadata": {},
   "source": [
    "The firms have the profit maximization problem: \n",
    "$$\n",
    "\\underset{K_{t}L_{t}}{max}\\quad AK_{t}^{\\alpha}L_{t}^{1-\\alpha}-r_{t}K_{t}-w_{t}L_{t}\n",
    "$$\n",
    "with $r_{t}$ and $w_{t}$ being the factor prices. We now that the standard solutions for factor prices in a Cobb-Douglas production function:\n",
    "$$\n",
    "r_{t}=A\\alpha k_{t}^{\\alpha-1}\n",
    "$$\n",
    "$$\n",
    "w_{t}=A(1-\\alpha)k_{t}^{\\alpha}\n",
    "$$\n",
    "with A being the factor productivity, $A>0$. $k_t$ is capital per capita, $k_{t}=\\frac{K_{t}}{L_{t}}$\n"
   ]
  },
  {
   "cell_type": "markdown",
   "metadata": {},
   "source": [
    "The agents in the economy get utility from consuming:\n",
    "$$\n",
    "U_{t}=ln(c_{1t})+\\beta ln(c_{2t+1})\n",
    "$$\n",
    "with $c_{1t}$ being consumption when young, and $c_{2t+1}$ when old. $\\beta=\\frac{1}{1+\\rho}$, with $\\rho$ being the discount rate, $\\rho>-1$, ensuring the parameter $\\beta$ is positive."
   ]
  },
  {
   "cell_type": "markdown",
   "metadata": {},
   "source": [
    "The agents have budget constraints,\n",
    "$$\n",
    "c_{1t}+s_{t}=w_{t}\n",
    "$$\n",
    "$$\n",
    "c_{2t+1}=(1+r_{t+1})s_{t}\n",
    "$$\n",
    "The young agents consume their wages minus what they save, while the old consume their savings with interests. This yield the lifetime budget constraint, \n",
    "$$\n",
    "c_{1t}+\\frac{c_{2t+1}}{1+r_{t+1}}=w_{t}\n",
    "$$"
   ]
  },
  {
   "cell_type": "markdown",
   "metadata": {},
   "source": [
    "The basics of the model is now in place. Next step is to solve the household maximization problem:\n",
    "$$\n",
    "\\underset{c_{1t},c_{2t+1}}{max}\\quad ln(c_{1t})+\\beta ln(c_{2t+1}) \\quad s.t. \\quad c_{1t}+\\frac{c_{2t+1}}{1+r_{t+1}}=w_{t}\n",
    "$$\n",
    "The problem is solved with Lagrange and yields the Euler-equation:\n",
    "$$\n",
    "c_{2t+1}=\\frac{1+r_{t+1}}{1+\\rho}c_{1t}\n",
    "$$"
   ]
  },
  {
   "cell_type": "markdown",
   "metadata": {},
   "source": [
    "Combining the Euler-equation with the budget constraints, we obtain the optimal saving:\n",
    "$$\n",
    "s_{t}=\\frac{1}{2+\\rho}w_{t}\n",
    "$$\n",
    "Using that $s_{t}=k_{t+1}(1+n)$, we can find the capital accumulation per capita:\n",
    "$$\n",
    "k_{t+1}(1+n)=\\frac{1}{2+\\rho}w_{t}\n",
    "$$\n",
    "$$\n",
    "\\Leftrightarrow\n",
    "$$\n",
    "$$\n",
    "k_{t+1}=\\frac{A(1-\\alpha)k_{t}^{\\alpha}}{(1+n)(2+\\rho)}\n",
    "$$"
   ]
  },
  {
   "cell_type": "markdown",
   "metadata": {},
   "source": [
    "In steady state we have that, $k_{t+1}=k_{t}=k^{*}$:\n",
    "$$\n",
    "k^{*}=(\\frac{A(1-\\alpha)}{(1+n)(2+\\rho)})^{\\frac{1}{1-\\alpha}}\n",
    "$$"
   ]
  },
  {
   "cell_type": "markdown",
   "metadata": {},
   "source": [
    "## 4. <a id='toc4_'></a>[Analytical solution](#toc4_)"
   ]
  },
  {
   "cell_type": "markdown",
   "metadata": {},
   "source": [
    "In this part we will set up the relevant parameters (sm.symbols), solve for steady state(sm.solve), and turn our function into a Python-function (sm.lambdify)"
   ]
  },
  {
   "cell_type": "code",
   "execution_count": 4,
   "metadata": {},
   "outputs": [],
   "source": [
    "alpha = sm.symbols('alpha')\n",
    "rho =  sm.symbols('rho')\n",
    "k = sm.symbols('k')\n",
    "n = sm.symbols('n')\n",
    "A = sm.symbols('A')"
   ]
  },
  {
   "cell_type": "code",
   "execution_count": 7,
   "metadata": {},
   "outputs": [
    {
     "data": {
      "text/latex": [
       "$\\displaystyle k = \\frac{A k^{\\alpha} \\left(1 - \\alpha\\right)}{\\left(n + 1\\right) \\left(\\rho + 2\\right)}$"
      ],
      "text/plain": [
       "Eq(k, A*k**alpha*(1 - alpha)/((n + 1)*(rho + 2)))"
      ]
     },
     "execution_count": 7,
     "metadata": {},
     "output_type": "execute_result"
    }
   ],
   "source": [
    "ss = sm.Eq(k, (A*(1-alpha)*k**alpha)/((1+n)*(2+rho)))\n",
    "ss"
   ]
  },
  {
   "cell_type": "code",
   "execution_count": 8,
   "metadata": {},
   "outputs": [
    {
     "data": {
      "text/latex": [
       "$\\displaystyle \\left(\\frac{A \\left(1 - \\alpha\\right)}{n \\rho + 2 n + \\rho + 2}\\right)^{- \\frac{1}{\\alpha - 1}}$"
      ],
      "text/plain": [
       "(A*(1 - alpha)/(n*rho + 2*n + rho + 2))**(-1/(alpha - 1))"
      ]
     },
     "execution_count": 8,
     "metadata": {},
     "output_type": "execute_result"
    }
   ],
   "source": [
    "ss_solve = sm.solve(ss, k)[0]\n",
    "ss_solve"
   ]
  },
  {
   "cell_type": "markdown",
   "metadata": {},
   "source": [
    "which is equivalent to the steady state derived in part 3."
   ]
  },
  {
   "cell_type": "code",
   "execution_count": 9,
   "metadata": {},
   "outputs": [
    {
     "data": {
      "text/plain": [
       "0.17485671329443958"
      ]
     },
     "execution_count": 9,
     "metadata": {},
     "output_type": "execute_result"
    }
   ],
   "source": [
    "k_solve = sm.lambdify((alpha,rho,n,A),ss_solve)\n",
    "k_solve(1/3,0.05,0.04,1)"
   ]
  },
  {
   "cell_type": "markdown",
   "metadata": {},
   "source": [
    "With our analytical solution, we get that capital per capita is 0.175 in steady state. "
   ]
  },
  {
   "cell_type": "markdown",
   "metadata": {},
   "source": [
    "## 5. <a id='toc5_'></a>[Numerical solution](#toc5_)"
   ]
  },
  {
   "cell_type": "markdown",
   "metadata": {},
   "source": [
    "You can always solve a model numerically.\n",
    "\n",
    "Define first the set of parameters you need.\n",
    "\n",
    "Then choose one of the optimization algorithms that we have gone through in the lectures based on what you think is most fitting for your model.\n",
    "\n",
    "Are there any problems with convergence? Does the model converge for all starting values? Make a lot of testing to figure these things out."
   ]
  },
  {
   "cell_type": "markdown",
   "metadata": {},
   "source": [
    "## 6. <a id='toc6_'></a>[Shock to the model](#toc6_)"
   ]
  },
  {
   "cell_type": "markdown",
   "metadata": {},
   "source": [
    "Make detailed vizualizations of how your model changes with parameter values.\n",
    "\n",
    "Try to make an extension of the model."
   ]
  },
  {
   "cell_type": "markdown",
   "metadata": {},
   "source": [
    "## 7. <a id='toc7_'></a>[Concluding remarks](#toc7_)"
   ]
  }
 ],
 "metadata": {
  "kernelspec": {
   "display_name": "base",
   "language": "python",
   "name": "python3"
  },
  "language_info": {
   "codemirror_mode": {
    "name": "ipython",
    "version": 3
   },
   "file_extension": ".py",
   "mimetype": "text/x-python",
   "name": "python",
   "nbconvert_exporter": "python",
   "pygments_lexer": "ipython3",
   "version": "3.11.7"
  }
 },
 "nbformat": 4,
 "nbformat_minor": 2
}
